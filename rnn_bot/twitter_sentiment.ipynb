{
 "cells": [
  {
   "cell_type": "code",
   "execution_count": null,
   "metadata": {},
   "outputs": [],
   "source": [
    "# Important Packages\n",
    "!pip install nest-asyncio\n",
    "!git clone --depth=1 https://github.com/twintproject/twint.git\n",
    "!cd twint && pip3 install . -r requirements.txt\n",
    "!pip install langdetect\n",
    "!pip install -q transformers"
   ]
  },
  {
   "cell_type": "code",
   "execution_count": 2,
   "metadata": {},
   "outputs": [
    {
     "name": "stdout",
     "output_type": "stream",
     "text": [
      "/Users/rui/Documents/GitHub/sentic-ai-project/rnn_bot\n"
     ]
    }
   ],
   "source": [
    "# Dependencies & Libraries\n",
    "import nest_asyncio\n",
    "import pandas as pd\n",
    "import numpy as np\n",
    "from datetime import datetime, timedelta\n",
    "from langdetect import detect\n",
    "import os\n",
    "import re\n",
    "\n",
    "BASEDIR = os.getcwd()\n",
    "print(BASEDIR)\n",
    "nest_asyncio.apply()\n"
   ]
  },
  {
   "cell_type": "code",
   "execution_count": 3,
   "metadata": {},
   "outputs": [
    {
     "name": "stdout",
     "output_type": "stream",
     "text": [
      "Getting tweets ranging from\n",
      "2021-10-01 to 2021-10-02\n"
     ]
    }
   ],
   "source": [
    "# Search Parameters\n",
    "today = datetime.today().strftime(\"%Y-%m-%d\")\n",
    "tomorrow = (datetime.today() + timedelta(1)).strftime(\"%Y-%m-%d\")\n",
    "past_seven_days = (datetime.today() - timedelta(7)).strftime(\"%Y-%m-%d\")\n",
    "\n",
    "print(f\"Getting tweets ranging from\\n{today} to {tomorrow}\")\n",
    "\n",
    "keywords = [\"BTC\", \"BITCOIN\", \"BTC-USD\"]"
   ]
  },
  {
   "cell_type": "code",
   "execution_count": 4,
   "metadata": {},
   "outputs": [
    {
     "name": "stdout",
     "output_type": "stream",
     "text": [
      "[!] No more data! Scraping will stop now.\n",
      "found 0 deleted tweets in this search.\n"
     ]
    },
    {
     "data": {
      "text/html": [
       "<div>\n",
       "<style scoped>\n",
       "    .dataframe tbody tr th:only-of-type {\n",
       "        vertical-align: middle;\n",
       "    }\n",
       "\n",
       "    .dataframe tbody tr th {\n",
       "        vertical-align: top;\n",
       "    }\n",
       "\n",
       "    .dataframe thead th {\n",
       "        text-align: right;\n",
       "    }\n",
       "</style>\n",
       "<table border=\"1\" class=\"dataframe\">\n",
       "  <thead>\n",
       "    <tr style=\"text-align: right;\">\n",
       "      <th></th>\n",
       "      <th>date</th>\n",
       "      <th>tweet</th>\n",
       "    </tr>\n",
       "  </thead>\n",
       "  <tbody>\n",
       "    <tr>\n",
       "      <th>0</th>\n",
       "      <td>2021-10-01 17:29:29</td>\n",
       "      <td>#BTC zazaz knows 💡</td>\n",
       "    </tr>\n",
       "    <tr>\n",
       "      <th>1</th>\n",
       "      <td>2021-10-01 17:29:13</td>\n",
       "      <td>$BTC Has broken out. Flip 45.2K and we're read...</td>\n",
       "    </tr>\n",
       "    <tr>\n",
       "      <th>2</th>\n",
       "      <td>2021-10-01 17:28:50</td>\n",
       "      <td>Bitcoin de kırılım geldi. Pump işi tamam.  Önü...</td>\n",
       "    </tr>\n",
       "    <tr>\n",
       "      <th>3</th>\n",
       "      <td>2021-10-01 17:28:08</td>\n",
       "      <td>$BTC 45K in 3...2...1...  https://t.co/kQuSngn7ND</td>\n",
       "    </tr>\n",
       "    <tr>\n",
       "      <th>4</th>\n",
       "      <td>2021-10-01 17:26:56</td>\n",
       "      <td>#Bitcoin Legendary accuracy ✅</td>\n",
       "    </tr>\n",
       "  </tbody>\n",
       "</table>\n",
       "</div>"
      ],
      "text/plain": [
       "                  date                                              tweet\n",
       "0  2021-10-01 17:29:29                                 #BTC zazaz knows 💡\n",
       "1  2021-10-01 17:29:13  $BTC Has broken out. Flip 45.2K and we're read...\n",
       "2  2021-10-01 17:28:50  Bitcoin de kırılım geldi. Pump işi tamam.  Önü...\n",
       "3  2021-10-01 17:28:08  $BTC 45K in 3...2...1...  https://t.co/kQuSngn7ND\n",
       "4  2021-10-01 17:26:56                      #Bitcoin Legendary accuracy ✅"
      ]
     },
     "execution_count": 4,
     "metadata": {},
     "output_type": "execute_result"
    }
   ],
   "source": [
    "# Data Collection\n",
    "import twint\n",
    "\n",
    "# tweets = pd.DataFrame(columns=[\"date\", \"user_id\", \"username\", \"tweet\", \"nlikes\", \"nretweets\", \"nreplies\"])\n",
    "tweets = pd.DataFrame(columns=[\"date\",\"tweet\"])\n",
    "c = twint.Config()\n",
    "# c.Username = \"elonmusk\"\n",
    "# c.Limit = 10\n",
    "c.Limit = 10000\n",
    "c.Store_csv = False\n",
    "c.Pandas = True\n",
    "c.Hide_output = True\n",
    "c.Since = today\n",
    "c.Until = tomorrow\n",
    "c.Min_likes = 10\n",
    "# Getting only English tweets, undefined == all, \n",
    "# Lang codes here https://github.com/twintproject/twint/wiki/Langauge-codes\n",
    "# This shit is not accurate\n",
    "c.Lang = \"en\"\n",
    "\n",
    "c.Search = \"btc OR bitcoin\"\n",
    "\n",
    "twint.run.Search(c)\n",
    "\n",
    "df = twint.storage.panda.Tweets_df\n",
    "try:\n",
    "    #tweets = tweets.append(df[[\"date\", \"user_id\", \"username\", \"tweet\", \"nlikes\", \"nretweets\", \"nreplies\"]])\n",
    "    tweets = tweets.append(df[[\"date\",\"tweet\"]])\n",
    "except KeyError:\n",
    "    print(\"No more data!\")\n",
    "\n",
    "tweets.to_csv(f\"{BASEDIR}/data/tweets.csv\")\n",
    "tweets.head()"
   ]
  },
  {
   "cell_type": "code",
   "execution_count": 5,
   "metadata": {},
   "outputs": [],
   "source": [
    "# Cleanining Functions\n",
    "def clean(tweet):\n",
    "    try:\n",
    "        if detect(tweet) != \"en\":\n",
    "            return np.NaN\n",
    "    except:\n",
    "        return np.NaN\n",
    "    tweet = re.sub(\"@[A-Za-z0-9_]+\",\"\", tweet)\n",
    "    tweet = re.sub(\"#[A-Za-z0-9_]+\",\"\", tweet)\n",
    "    tweet = re.sub(r\"(https?:\\/\\/)?([\\da-z\\.-]+)\\.([a-z\\.]{2,6})([\\/\\w \\.-]*)\", \"\", tweet)\n",
    "    tweet = re.sub(r\"www.\\S+\", \"\", tweet)\n",
    "    return tweet"
   ]
  },
  {
   "cell_type": "code",
   "execution_count": 6,
   "metadata": {},
   "outputs": [
    {
     "name": "stdout",
     "output_type": "stream",
     "text": [
      "                  date                                              tweet  \\\n",
      "0  2021-10-01 17:29:29                                 #BTC zazaz knows 💡   \n",
      "1  2021-10-01 17:29:13  $BTC Has broken out. Flip 45.2K and we're read...   \n",
      "2  2021-10-01 17:28:50  Bitcoin de kırılım geldi. Pump işi tamam.  Önü...   \n",
      "3  2021-10-01 17:28:08  $BTC 45K in 3...2...1...  https://t.co/kQuSngn7ND   \n",
      "4  2021-10-01 17:26:56                      #Bitcoin Legendary accuracy ✅   \n",
      "\n",
      "                                       cleaned_tweet  \n",
      "0                                                NaN  \n",
      "1  $BTC Has broken out. Flip 45.2K and we're read...  \n",
      "2                                                NaN  \n",
      "3                                                NaN  \n",
      "4                               Legendary accuracy ✅  \n"
     ]
    }
   ],
   "source": [
    "tweets[\"cleaned_tweet\"] = tweets[\"tweet\"].apply(clean)\n",
    "print(tweets.head())\n",
    "tweets = tweets.dropna()\n",
    "tweets = tweets.drop_duplicates()\n",
    "tweets.to_csv(f\"{BASEDIR}/data/tweets_cleaned.csv\")"
   ]
  },
  {
   "cell_type": "code",
   "execution_count": 7,
   "metadata": {},
   "outputs": [
    {
     "name": "stderr",
     "output_type": "stream",
     "text": [
      "No model was supplied, defaulted to distilbert-base-uncased-finetuned-sst-2-english (https://huggingface.co/distilbert-base-uncased-finetuned-sst-2-english)\n",
      "Downloading: 100%|██████████| 255M/255M [00:04<00:00, 54.0MB/s]\n",
      "Downloading: 100%|██████████| 48.0/48.0 [00:00<00:00, 18.0kB/s]\n",
      "Downloading: 100%|██████████| 226k/226k [00:01<00:00, 188kB/s]\n"
     ]
    }
   ],
   "source": [
    "# Sentiment Analysis\n",
    "from transformers import pipeline\n",
    "\n",
    "sentiment = pipeline(\"sentiment-analysis\")"
   ]
  },
  {
   "cell_type": "code",
   "execution_count": 8,
   "metadata": {},
   "outputs": [],
   "source": [
    "def sentiment_analysis(tweet):\n",
    "    label, score = sentiment(tweet)[0].values()\n",
    "    if label == \"NEGATIVE\":\n",
    "        return 1 - score\n",
    "    else:\n",
    "        return score\n",
    "\n",
    "tweets[\"sentiment\"] = tweets[\"tweet\"].apply(sentiment_analysis)\n",
    "tweets.head()\n",
    "tweets.to_csv(f\"{BASEDIR}/data/tweets_sentiment.csv\")"
   ]
  },
  {
   "cell_type": "code",
   "execution_count": 9,
   "metadata": {},
   "outputs": [
    {
     "name": "stdout",
     "output_type": "stream",
     "text": [
      "Average Sentiment: 0.21599949279693045\n"
     ]
    }
   ],
   "source": [
    "# Average Sentiment Score\n",
    "print(\"Average Sentiment:\", tweets[\"sentiment\"].sum()/len(tweets.index))\n"
   ]
  }
 ],
 "metadata": {
  "interpreter": {
   "hash": "f7e08f0553378ebb8b06e339049739e9b11bff4072c000bca6bea92fe117ef85"
  },
  "kernelspec": {
   "display_name": "Python 3.8.10 64-bit ('env': venv)",
   "name": "python3"
  },
  "language_info": {
   "codemirror_mode": {
    "name": "ipython",
    "version": 3
   },
   "file_extension": ".py",
   "mimetype": "text/x-python",
   "name": "python",
   "nbconvert_exporter": "python",
   "pygments_lexer": "ipython3",
   "version": "3.8.10"
  },
  "orig_nbformat": 4
 },
 "nbformat": 4,
 "nbformat_minor": 2
}
