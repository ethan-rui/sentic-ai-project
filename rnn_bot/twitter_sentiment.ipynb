{
 "cells": [
  {
   "cell_type": "code",
   "execution_count": null,
   "source": [
    "# Important Packages\r\n",
    "!pip install nest-asyncio\r\n",
    "!git clone --depth=1 https://github.com/twintproject/twint.git\r\n",
    "!cd twint && pip3 install . -r requirements.txt\r\n",
    "!pip install langdetect\r\n",
    "!pip install -q transformers"
   ],
   "outputs": [],
   "metadata": {}
  },
  {
   "cell_type": "code",
   "execution_count": 55,
   "source": [
    "# Dependencies & Libraries\r\n",
    "import nest_asyncio\r\n",
    "import pandas as pd\r\n",
    "import numpy as np\r\n",
    "from datetime import datetime, timedelta\r\n",
    "from langdetect import detect\r\n",
    "import os\r\n",
    "import re\r\n",
    "\r\n",
    "BASEDIR = os.getcwd()\r\n",
    "print(BASEDIR)\r\n",
    "nest_asyncio.apply()\r\n"
   ],
   "outputs": [
    {
     "output_type": "stream",
     "name": "stdout",
     "text": [
      "d:\\projects\\sentic-trading-bot\\rnn_bot\n"
     ]
    }
   ],
   "metadata": {}
  },
  {
   "cell_type": "code",
   "execution_count": 96,
   "source": [
    "# Search Parameters\r\n",
    "today = datetime.today().strftime(\"%Y-%m-%d\")\r\n",
    "tomorrow = (datetime.today() + timedelta(1)).strftime(\"%Y-%m-%d\")\r\n",
    "past_seven_days = (datetime.today() - timedelta(7)).strftime(\"%Y-%m-%d\")\r\n",
    "\r\n",
    "print(f\"Getting tweets ranging from\\n{today} to {tomorrow}\")\r\n",
    "\r\n",
    "keywords = [\"BTC\", \"BITCOIN\", \"BTC-USD\"]"
   ],
   "outputs": [
    {
     "output_type": "stream",
     "name": "stdout",
     "text": [
      "2021-09-16\n",
      "Getting tweets ranging from\n",
      "2021-09-23 to 2021-09-24\n"
     ]
    }
   ],
   "metadata": {}
  },
  {
   "cell_type": "code",
   "execution_count": 101,
   "source": [
    "# Data Collection\r\n",
    "import twint\r\n",
    "\r\n",
    "# tweets = pd.DataFrame(columns=[\"date\", \"user_id\", \"username\", \"tweet\", \"nlikes\", \"nretweets\", \"nreplies\"])\r\n",
    "tweets = pd.DataFrame(columns=[\"date\",\"tweet\"])\r\n",
    "c = twint.Config()\r\n",
    "# c.Username = \"elonmusk\"\r\n",
    "# c.Limit = 10\r\n",
    "c.Limit = 10000\r\n",
    "c.Store_csv = False\r\n",
    "c.Pandas = True\r\n",
    "c.Hide_output = True\r\n",
    "c.Since = today\r\n",
    "c.Until = tomorrow\r\n",
    "c.Min_likes = 10\r\n",
    "# Getting only English tweets, undefined == all, \r\n",
    "# Lang codes here https://github.com/twintproject/twint/wiki/Langauge-codes\r\n",
    "# This shit is not accurate\r\n",
    "c.Lang = \"en\"\r\n",
    "\r\n",
    "c.Search = \"btc OR bitcoin\"\r\n",
    "\r\n",
    "twint.run.Search(c)\r\n",
    "\r\n",
    "df = twint.storage.panda.Tweets_df\r\n",
    "try:\r\n",
    "    #tweets = tweets.append(df[[\"date\", \"user_id\", \"username\", \"tweet\", \"nlikes\", \"nretweets\", \"nreplies\"]])\r\n",
    "    tweets = tweets.append(df[[\"date\",\"tweet\"]])\r\n",
    "except KeyError:\r\n",
    "    print(\"No more data!\")\r\n",
    "\r\n",
    "tweets.to_csv(f\"{BASEDIR}/data/tweets.csv\")\r\n",
    "tweets.head()"
   ],
   "outputs": [
    {
     "output_type": "stream",
     "name": "stdout",
     "text": [
      "[!] No more data! Scraping will stop now.\n",
      "found 0 deleted tweets in this search.\n"
     ]
    },
    {
     "output_type": "execute_result",
     "data": {
      "text/html": [
       "<div>\n",
       "<style scoped>\n",
       "    .dataframe tbody tr th:only-of-type {\n",
       "        vertical-align: middle;\n",
       "    }\n",
       "\n",
       "    .dataframe tbody tr th {\n",
       "        vertical-align: top;\n",
       "    }\n",
       "\n",
       "    .dataframe thead th {\n",
       "        text-align: right;\n",
       "    }\n",
       "</style>\n",
       "<table border=\"1\" class=\"dataframe\">\n",
       "  <thead>\n",
       "    <tr style=\"text-align: right;\">\n",
       "      <th></th>\n",
       "      <th>date</th>\n",
       "      <th>tweet</th>\n",
       "    </tr>\n",
       "  </thead>\n",
       "  <tbody>\n",
       "    <tr>\n",
       "      <th>0</th>\n",
       "      <td>2021-09-21 11:00:02</td>\n",
       "      <td>Half of Brazilians would welcome BTC with open...</td>\n",
       "    </tr>\n",
       "    <tr>\n",
       "      <th>1</th>\n",
       "      <td>2021-09-21 10:59:33</td>\n",
       "      <td>Genocide Via Medicine via @maxigan @DollarVigi...</td>\n",
       "    </tr>\n",
       "    <tr>\n",
       "      <th>2</th>\n",
       "      <td>2021-09-21 10:59:09</td>\n",
       "      <td>Multiple bitcoiners expressed concern to me to...</td>\n",
       "    </tr>\n",
       "    <tr>\n",
       "      <th>3</th>\n",
       "      <td>2021-09-21 10:59:08</td>\n",
       "      <td>😱BITCOIN CAYENDO EN VIVO, VEAMOS ESTO /V797  h...</td>\n",
       "    </tr>\n",
       "    <tr>\n",
       "      <th>4</th>\n",
       "      <td>2021-09-21 10:58:55</td>\n",
       "      <td>Current position: $9,916,500 UPnL: -22 #btc Mo...</td>\n",
       "    </tr>\n",
       "  </tbody>\n",
       "</table>\n",
       "</div>"
      ],
      "text/plain": [
       "                  date                                              tweet\n",
       "0  2021-09-21 11:00:02  Half of Brazilians would welcome BTC with open...\n",
       "1  2021-09-21 10:59:33  Genocide Via Medicine via @maxigan @DollarVigi...\n",
       "2  2021-09-21 10:59:09  Multiple bitcoiners expressed concern to me to...\n",
       "3  2021-09-21 10:59:08  😱BITCOIN CAYENDO EN VIVO, VEAMOS ESTO /V797  h...\n",
       "4  2021-09-21 10:58:55  Current position: $9,916,500 UPnL: -22 #btc Mo..."
      ]
     },
     "metadata": {},
     "execution_count": 101
    }
   ],
   "metadata": {}
  },
  {
   "cell_type": "code",
   "execution_count": 106,
   "source": [
    "# Cleanining Functions\r\n",
    "def clean(tweet):\r\n",
    "    try:\r\n",
    "        if detect(tweet) != \"en\":\r\n",
    "            return np.NaN\r\n",
    "    except:\r\n",
    "        return np.NaN\r\n",
    "    tweet = re.sub(\"@[A-Za-z0-9_]+\",\"\", tweet)\r\n",
    "    tweet = re.sub(\"#[A-Za-z0-9_]+\",\"\", tweet)\r\n",
    "    tweet = re.sub(r\"(https?:\\/\\/)?([\\da-z\\.-]+)\\.([a-z\\.]{2,6})([\\/\\w \\.-]*)\", \"\", tweet)\r\n",
    "    tweet = re.sub(r\"www.\\S+\", \"\", tweet)\r\n",
    "    return tweet"
   ],
   "outputs": [],
   "metadata": {}
  },
  {
   "cell_type": "code",
   "execution_count": 107,
   "source": [
    "tweets[\"cleaned_tweet\"] = tweets[\"tweet\"].apply(clean)\r\n",
    "print(tweets.head())\r\n",
    "tweets = tweets.dropna()\r\n",
    "tweets = tweets.drop_duplicates()\r\n",
    "tweets.to_csv(f\"{BASEDIR}/data/tweets_cleaned.csv\")"
   ],
   "outputs": [
    {
     "output_type": "stream",
     "name": "stdout",
     "text": [
      "                  date                                              tweet  \\\n",
      "0  2021-09-21 11:00:02  Half of Brazilians would welcome BTC with open...   \n",
      "1  2021-09-21 10:59:33  Genocide Via Medicine via @maxigan @DollarVigi...   \n",
      "2  2021-09-21 10:59:09  Multiple bitcoiners expressed concern to me to...   \n",
      "3  2021-09-21 10:59:08  😱BITCOIN CAYENDO EN VIVO, VEAMOS ESTO /V797  h...   \n",
      "4  2021-09-21 10:58:55  Current position: $9,916,500 UPnL: -22 #btc Mo...   \n",
      "\n",
      "                                       cleaned_tweet  \n",
      "0  Half of Brazilians would welcome BTC with open...  \n",
      "1  Genocide Via Medicine via      🏴‍☠️ $ARRR   $X...  \n",
      "2  Multiple bitcoiners expressed concern to me to...  \n",
      "3                                                NaN  \n",
      "4  Current position: $9,916,500 UPnL: -22  Mood: ...  \n"
     ]
    }
   ],
   "metadata": {}
  },
  {
   "cell_type": "code",
   "execution_count": 108,
   "source": [
    "# Sentiment Analysis\r\n",
    "from transformers import pipeline\r\n",
    "\r\n",
    "sentiment = pipeline(\"sentiment-analysis\")"
   ],
   "outputs": [
    {
     "output_type": "stream",
     "name": "stderr",
     "text": [
      "No model was supplied, defaulted to distilbert-base-uncased-finetuned-sst-2-english (https://huggingface.co/distilbert-base-uncased-finetuned-sst-2-english)\n",
      "Some layers from the model checkpoint at distilbert-base-uncased-finetuned-sst-2-english were not used when initializing TFDistilBertForSequenceClassification: ['dropout_19']\n",
      "- This IS expected if you are initializing TFDistilBertForSequenceClassification from the checkpoint of a model trained on another task or with another architecture (e.g. initializing a BertForSequenceClassification model from a BertForPreTraining model).\n",
      "- This IS NOT expected if you are initializing TFDistilBertForSequenceClassification from the checkpoint of a model that you expect to be exactly identical (initializing a BertForSequenceClassification model from a BertForSequenceClassification model).\n",
      "Some layers of TFDistilBertForSequenceClassification were not initialized from the model checkpoint at distilbert-base-uncased-finetuned-sst-2-english and are newly initialized: ['dropout_79']\n",
      "You should probably TRAIN this model on a down-stream task to be able to use it for predictions and inference.\n"
     ]
    }
   ],
   "metadata": {}
  },
  {
   "cell_type": "code",
   "execution_count": 113,
   "source": [
    "def sentiment_analysis(tweet):\r\n",
    "    label, score = sentiment(tweet)[0].values()\r\n",
    "    if label == \"NEGATIVE\":\r\n",
    "        return 1 - score\r\n",
    "    else:\r\n",
    "        return score\r\n",
    "\r\n",
    "tweets[\"sentiment\"] = tweets[\"tweet\"].apply(sentiment_analysis)\r\n",
    "tweets.head()\r\n",
    "tweets.to_csv(f\"{BASEDIR}/data/tweets_sentiment.csv\")"
   ],
   "outputs": [],
   "metadata": {}
  },
  {
   "cell_type": "code",
   "execution_count": 115,
   "source": [
    "# Average Sentiment Score\r\n",
    "print(\"Average Sentiment:\", tweets[\"sentiment\"].sum()/len(tweets.index))\r\n"
   ],
   "outputs": [
    {
     "output_type": "stream",
     "name": "stdout",
     "text": [
      "Average Sentiment: -0.607606787152969\n"
     ]
    }
   ],
   "metadata": {}
  }
 ],
 "metadata": {
  "orig_nbformat": 4,
  "language_info": {
   "name": "python",
   "version": "3.8.7",
   "mimetype": "text/x-python",
   "codemirror_mode": {
    "name": "ipython",
    "version": 3
   },
   "pygments_lexer": "ipython3",
   "nbconvert_exporter": "python",
   "file_extension": ".py"
  },
  "kernelspec": {
   "name": "python3",
   "display_name": "Python 3.8.7 64-bit ('env': venv)"
  },
  "interpreter": {
   "hash": "d963e8c3bd621c1267573853affdfd83ea71dcc061fe982e2b9fa2d8f3228c68"
  }
 },
 "nbformat": 4,
 "nbformat_minor": 2
}