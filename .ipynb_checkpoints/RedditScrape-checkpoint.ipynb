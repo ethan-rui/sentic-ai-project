{
 "cells": [
  {
   "cell_type": "markdown",
   "id": "1b5c820e",
   "metadata": {},
   "source": [
    "# Basic Reddit Scraping\n",
    "Scraping from -> r/wallstreetbets\n",
    "- Daily Discussion"
   ]
  },
  {
   "cell_type": "code",
   "execution_count": 7,
   "id": "4db5daac",
   "metadata": {},
   "outputs": [
    {
     "name": "stdout",
     "output_type": "stream",
     "text": [
      "Collecting praw\n",
      "  Downloading praw-7.4.0-py3-none-any.whl (167 kB)\n",
      "\u001b[K     |████████████████████████████████| 167 kB 945 kB/s eta 0:00:01\n",
      "\u001b[?25hRequirement already satisfied: websocket-client>=0.54.0 in /Library/Frameworks/Python.framework/Versions/3.9/lib/python3.9/site-packages (from praw) (1.1.0)\n",
      "Collecting prawcore<3,>=2.1\n",
      "  Downloading prawcore-2.3.0-py3-none-any.whl (16 kB)\n",
      "Collecting update-checker>=0.18\n",
      "  Downloading update_checker-0.18.0-py3-none-any.whl (7.0 kB)\n",
      "Requirement already satisfied: requests<3.0,>=2.6.0 in /Library/Frameworks/Python.framework/Versions/3.9/lib/python3.9/site-packages (from prawcore<3,>=2.1->praw) (2.25.1)\n",
      "Requirement already satisfied: idna<3,>=2.5 in /Library/Frameworks/Python.framework/Versions/3.9/lib/python3.9/site-packages (from requests<3.0,>=2.6.0->prawcore<3,>=2.1->praw) (2.10)\n",
      "Requirement already satisfied: chardet<5,>=3.0.2 in /Library/Frameworks/Python.framework/Versions/3.9/lib/python3.9/site-packages (from requests<3.0,>=2.6.0->prawcore<3,>=2.1->praw) (4.0.0)\n",
      "Requirement already satisfied: certifi>=2017.4.17 in /Library/Frameworks/Python.framework/Versions/3.9/lib/python3.9/site-packages (from requests<3.0,>=2.6.0->prawcore<3,>=2.1->praw) (2020.12.5)\n",
      "Requirement already satisfied: urllib3<1.27,>=1.21.1 in /Library/Frameworks/Python.framework/Versions/3.9/lib/python3.9/site-packages (from requests<3.0,>=2.6.0->prawcore<3,>=2.1->praw) (1.26.6)\n",
      "Installing collected packages: update-checker, prawcore, praw\n",
      "Successfully installed praw-7.4.0 prawcore-2.3.0 update-checker-0.18.0\n",
      "\u001b[33mWARNING: You are using pip version 21.1.3; however, version 21.2.4 is available.\n",
      "You should consider upgrading via the '/Library/Frameworks/Python.framework/Versions/3.9/bin/python3.9 -m pip install --upgrade pip' command.\u001b[0m\n"
     ]
    }
   ],
   "source": [
    "!pip install praw"
   ]
  },
  {
   "cell_type": "code",
   "execution_count": 71,
   "id": "a5165460",
   "metadata": {},
   "outputs": [],
   "source": [
    "# Imports\n",
    "import praw\n",
    "from praw.models import MoreComments\n",
    "from datetime import datetime\n",
    "import pandas as pd\n",
    "import os\n",
    "from json import loads\n",
    "\n"
   ]
  },
  {
   "cell_type": "code",
   "execution_count": 50,
   "id": "a08973e7",
   "metadata": {},
   "outputs": [
    {
     "name": "stdout",
     "output_type": "stream",
     "text": [
      "/Users/deyuan/Documents/GitHub/sentic-ai-project\n"
     ]
    }
   ],
   "source": [
    "cwd = os.path.abspath('')\n",
    "print(cwd)"
   ]
  },
  {
   "cell_type": "code",
   "execution_count": 51,
   "id": "f0ae33ed",
   "metadata": {},
   "outputs": [
    {
     "data": {
      "text/plain": [
       "{'user_agent': 'Comment Extraction (by u/SenticFinatic)',\n",
       " 'client_id': 'JVpxM3nzVundq9JhLVOU3g',\n",
       " 'client_secret': 'hH-hZ2VYqhLKNDc9tt0YHYAXvs1fdw',\n",
       " 'username': 'senticfinatic',\n",
       " 'password': 'Sentic{h!yDIi%GKhtExCT74iz5}'}"
      ]
     },
     "execution_count": 51,
     "metadata": {},
     "output_type": "execute_result"
    }
   ],
   "source": [
    "config = loads(open(os.path.join(cwd, 'config.json')).read())\n",
    "reddit_config = config[\"Reddit\"]\n",
    "reddit_config"
   ]
  },
  {
   "cell_type": "code",
   "execution_count": 52,
   "id": "473a328d",
   "metadata": {},
   "outputs": [],
   "source": [
    "reddit = praw.Reddit(\n",
    "    client_id=reddit_config[\"client_id\"],\n",
    "    client_secret=reddit_config[\"client_secret\"],\n",
    "    password=reddit_config[\"password\"],\n",
    "    user_agent=reddit_config[\"user_agent\"],\n",
    "    username=reddit_config[\"username\"]\n",
    ")"
   ]
  },
  {
   "cell_type": "code",
   "execution_count": 53,
   "id": "65349670",
   "metadata": {},
   "outputs": [
    {
     "data": {
      "text/plain": [
       "Redditor(name='SenticFinatic')"
      ]
     },
     "execution_count": 53,
     "metadata": {},
     "output_type": "execute_result"
    }
   ],
   "source": [
    "reddit.user.me()"
   ]
  },
  {
   "cell_type": "code",
   "execution_count": 54,
   "id": "235330dd",
   "metadata": {},
   "outputs": [
    {
     "data": {
      "text/plain": [
       "Submission(id='pli02m')"
      ]
     },
     "execution_count": 54,
     "metadata": {},
     "output_type": "execute_result"
    }
   ],
   "source": [
    "sub = next(reddit.subreddit(\"wallstreetbets\").search(\"Daily Discussion\"))\n",
    "sub"
   ]
  },
  {
   "cell_type": "code",
   "execution_count": 47,
   "id": "23ba3a19",
   "metadata": {},
   "outputs": [
    {
     "data": {
      "text/plain": [
       "praw.models.reddit.more.MoreComments"
      ]
     },
     "execution_count": 47,
     "metadata": {},
     "output_type": "execute_result"
    }
   ],
   "source": []
  },
  {
   "cell_type": "code",
   "execution_count": 72,
   "id": "f6e479aa",
   "metadata": {},
   "outputs": [
    {
     "name": "stdout",
     "output_type": "stream",
     "text": [
      "[removed]\n",
      "[deleted]\n",
      "[deleted]\n",
      "[deleted]\n"
     ]
    }
   ],
   "source": [
    "comments_list = list(sub.comments).copy()\n",
    "body_comments_list = []\n",
    "scores_comments_list = []\n",
    "id_comments_list = []\n",
    "time_comments_list = []\n",
    "username_comments_list = []\n",
    "replies_comments_list = []\n",
    "sub.comments.replace_more(limit=0)\n",
    "\n",
    "\n",
    "for comment in sub.comments:\n",
    "    if isinstance(MoreComments, type(comment)):\n",
    "        continue\n",
    "    body_comments_list.append(comment.body)\n",
    "    scores_comments_list.append(comment.score)\n",
    "    try:\n",
    "        id_comments_list.append(comment.author.id)\n",
    "    except:\n",
    "        print(comment.body)\n",
    "        id_comments_list.append(\"Deleted\")\n",
    "    try:\n",
    "        username_comments_list.append(comment.author.name)\n",
    "    except:\n",
    "        username_comments_list.append(\"Deleted\")\n",
    "    time_comments_list.append(datetime.utcfromtimestamp(comment.created_utc)\\\n",
    "                              .strftime('%Y-%m-%d %H:%M:%S'))\n",
    "    replies_comments_list.append(len(comment.replies))\n",
    "        \n",
    "    "
   ]
  },
  {
   "cell_type": "code",
   "execution_count": 74,
   "id": "1b0f4ddd",
   "metadata": {},
   "outputs": [],
   "source": [
    "raw_dataset = pd.DataFrame({\n",
    "    \"Date\": time_comments_list\n",
    "    \"User ID\": id_comments_list,\n",
    "    \"Username\": username_comments_list,\n",
    "    \"Content\": body_comments_list,\n",
    "    \"No. of Upvotes\": scores_comments_list,\n",
    "    \"No. of Replies\": replies_comments_list,\n",
    "})\n"
   ]
  },
  {
   "cell_type": "code",
   "execution_count": 75,
   "id": "60dee7d2",
   "metadata": {},
   "outputs": [
    {
     "data": {
      "text/html": [
       "<div>\n",
       "<style scoped>\n",
       "    .dataframe tbody tr th:only-of-type {\n",
       "        vertical-align: middle;\n",
       "    }\n",
       "\n",
       "    .dataframe tbody tr th {\n",
       "        vertical-align: top;\n",
       "    }\n",
       "\n",
       "    .dataframe thead th {\n",
       "        text-align: right;\n",
       "    }\n",
       "</style>\n",
       "<table border=\"1\" class=\"dataframe\">\n",
       "  <thead>\n",
       "    <tr style=\"text-align: right;\">\n",
       "      <th></th>\n",
       "      <th>Upvotes</th>\n",
       "      <th>No. of Replies</th>\n",
       "      <th>Content</th>\n",
       "      <th>User ID</th>\n",
       "      <th>Username</th>\n",
       "      <th>Date</th>\n",
       "    </tr>\n",
       "  </thead>\n",
       "  <tbody>\n",
       "    <tr>\n",
       "      <th>0</th>\n",
       "      <td>56</td>\n",
       "      <td>0</td>\n",
       "      <td>Hold uranium too long you die.</td>\n",
       "      <td>3vaisjsp</td>\n",
       "      <td>BLVCKYOTA</td>\n",
       "      <td>2021-09-10 12:04:21</td>\n",
       "    </tr>\n",
       "    <tr>\n",
       "      <th>1</th>\n",
       "      <td>36</td>\n",
       "      <td>1</td>\n",
       "      <td>Fed has ethics concerns with holding stocks af...</td>\n",
       "      <td>22rubrt</td>\n",
       "      <td>mickeys_dead</td>\n",
       "      <td>2021-09-10 12:34:54</td>\n",
       "    </tr>\n",
       "    <tr>\n",
       "      <th>2</th>\n",
       "      <td>32</td>\n",
       "      <td>1</td>\n",
       "      <td>Happy Friday everyone hope you guys make lots ...</td>\n",
       "      <td>2emezqx1</td>\n",
       "      <td>acptest</td>\n",
       "      <td>2021-09-10 12:05:50</td>\n",
       "    </tr>\n",
       "    <tr>\n",
       "      <th>3</th>\n",
       "      <td>30</td>\n",
       "      <td>1</td>\n",
       "      <td>Elizabeth Holmes could give me a bj while look...</td>\n",
       "      <td>920mo</td>\n",
       "      <td>wooshock</td>\n",
       "      <td>2021-09-10 12:44:51</td>\n",
       "    </tr>\n",
       "    <tr>\n",
       "      <th>4</th>\n",
       "      <td>29</td>\n",
       "      <td>0</td>\n",
       "      <td>I wonder how many of you on this thread I thin...</td>\n",
       "      <td>hets7</td>\n",
       "      <td>coxidasical</td>\n",
       "      <td>2021-09-10 12:54:55</td>\n",
       "    </tr>\n",
       "    <tr>\n",
       "      <th>...</th>\n",
       "      <td>...</td>\n",
       "      <td>...</td>\n",
       "      <td>...</td>\n",
       "      <td>...</td>\n",
       "      <td>...</td>\n",
       "      <td>...</td>\n",
       "    </tr>\n",
       "    <tr>\n",
       "      <th>452</th>\n",
       "      <td>5</td>\n",
       "      <td>0</td>\n",
       "      <td>Don't be pussies Permabulls. Buy those dips</td>\n",
       "      <td>ywya3</td>\n",
       "      <td>blau_blau</td>\n",
       "      <td>2021-09-10 14:34:49</td>\n",
       "    </tr>\n",
       "    <tr>\n",
       "      <th>453</th>\n",
       "      <td>6</td>\n",
       "      <td>0</td>\n",
       "      <td>Remember when we would open red and then gap u...</td>\n",
       "      <td>9xhe5</td>\n",
       "      <td>AsaKurai</td>\n",
       "      <td>2021-09-10 14:35:04</td>\n",
       "    </tr>\n",
       "    <tr>\n",
       "      <th>454</th>\n",
       "      <td>6</td>\n",
       "      <td>0</td>\n",
       "      <td>Wow puts are saving my account thank fuck</td>\n",
       "      <td>1fbfbek2</td>\n",
       "      <td>YoinkedMustache</td>\n",
       "      <td>2021-09-10 14:37:18</td>\n",
       "    </tr>\n",
       "    <tr>\n",
       "      <th>455</th>\n",
       "      <td>6</td>\n",
       "      <td>0</td>\n",
       "      <td>Friendly reminder that bers did 9/11</td>\n",
       "      <td>87qs6</td>\n",
       "      <td>drewbieVS</td>\n",
       "      <td>2021-09-10 14:39:13</td>\n",
       "    </tr>\n",
       "    <tr>\n",
       "      <th>456</th>\n",
       "      <td>7</td>\n",
       "      <td>0</td>\n",
       "      <td>**ANYTHING LESS THAN 10K ISNT A YOLO**\\n\\nTHAT...</td>\n",
       "      <td>9mf74</td>\n",
       "      <td>JonStowe1</td>\n",
       "      <td>2021-09-10 14:39:38</td>\n",
       "    </tr>\n",
       "  </tbody>\n",
       "</table>\n",
       "<p>457 rows × 6 columns</p>\n",
       "</div>"
      ],
      "text/plain": [
       "     Upvotes  No. of Replies  \\\n",
       "0         56               0   \n",
       "1         36               1   \n",
       "2         32               1   \n",
       "3         30               1   \n",
       "4         29               0   \n",
       "..       ...             ...   \n",
       "452        5               0   \n",
       "453        6               0   \n",
       "454        6               0   \n",
       "455        6               0   \n",
       "456        7               0   \n",
       "\n",
       "                                               Content   User ID  \\\n",
       "0                       Hold uranium too long you die.  3vaisjsp   \n",
       "1    Fed has ethics concerns with holding stocks af...   22rubrt   \n",
       "2    Happy Friday everyone hope you guys make lots ...  2emezqx1   \n",
       "3    Elizabeth Holmes could give me a bj while look...     920mo   \n",
       "4    I wonder how many of you on this thread I thin...     hets7   \n",
       "..                                                 ...       ...   \n",
       "452        Don't be pussies Permabulls. Buy those dips     ywya3   \n",
       "453  Remember when we would open red and then gap u...     9xhe5   \n",
       "454          Wow puts are saving my account thank fuck  1fbfbek2   \n",
       "455               Friendly reminder that bers did 9/11     87qs6   \n",
       "456  **ANYTHING LESS THAN 10K ISNT A YOLO**\\n\\nTHAT...     9mf74   \n",
       "\n",
       "            Username                 Date  \n",
       "0          BLVCKYOTA  2021-09-10 12:04:21  \n",
       "1       mickeys_dead  2021-09-10 12:34:54  \n",
       "2            acptest  2021-09-10 12:05:50  \n",
       "3           wooshock  2021-09-10 12:44:51  \n",
       "4        coxidasical  2021-09-10 12:54:55  \n",
       "..               ...                  ...  \n",
       "452        blau_blau  2021-09-10 14:34:49  \n",
       "453         AsaKurai  2021-09-10 14:35:04  \n",
       "454  YoinkedMustache  2021-09-10 14:37:18  \n",
       "455        drewbieVS  2021-09-10 14:39:13  \n",
       "456        JonStowe1  2021-09-10 14:39:38  \n",
       "\n",
       "[457 rows x 6 columns]"
      ]
     },
     "execution_count": 75,
     "metadata": {},
     "output_type": "execute_result"
    }
   ],
   "source": [
    "raw_dataset "
   ]
  }
 ],
 "metadata": {
  "kernelspec": {
   "display_name": "Python 3 (ipykernel)",
   "language": "python",
   "name": "python3"
  },
  "language_info": {
   "codemirror_mode": {
    "name": "ipython",
    "version": 3
   },
   "file_extension": ".py",
   "mimetype": "text/x-python",
   "name": "python",
   "nbconvert_exporter": "python",
   "pygments_lexer": "ipython3",
   "version": "3.9.1"
  }
 },
 "nbformat": 4,
 "nbformat_minor": 5
}
