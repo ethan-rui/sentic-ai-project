{
 "cells": [
  {
   "cell_type": "code",
   "execution_count": 1,
   "metadata": {},
   "outputs": [],
   "source": [
    "# Imports \n",
    "import numpy as np\n",
    "import matplotlib.pyplot as plt\n",
    "import pandas as pd\n",
    "import datetime as dt\n",
    "from pandas.core.algorithms import mode\n",
    "import pandas_datareader as web\n",
    "from sklearn.preprocessing import MinMaxScaler\n",
    "from tensorflow.keras.models import Sequential, load_model\n",
    "from tensorflow.keras.layers import Dense, Dropout, LSTM"
   ]
  },
  {
   "cell_type": "code",
   "execution_count": 2,
   "metadata": {},
   "outputs": [
    {
     "name": "stdout",
     "output_type": "stream",
     "text": [
      "                High       Low      Open     Close     Volume  Adj Close\n",
      "Date                                                                    \n",
      "2015-08-06  3.536610  2.521120  2.831620  2.772120   164329.0   2.772120\n",
      "2015-08-07  2.798810  0.714725  2.793760  0.753325   674188.0   0.753325\n",
      "2015-08-08  0.879810  0.629191  0.706136  0.701897   532170.0   0.701897\n",
      "2015-08-09  0.729854  0.636546  0.713989  0.708448   405283.0   0.708448\n",
      "2015-08-10  1.131410  0.663235  0.708087  1.067860  1463100.0   1.067860\n"
     ]
    }
   ],
   "source": [
    "# Get Ticker Data\n",
    "company = \"ETH-USD\"\n",
    "\n",
    "start = dt.datetime(2012, 1, 1)\n",
    "end = dt.datetime.today()\n",
    "\n",
    "data = web.DataReader(company, \"yahoo\", start, end)\n",
    "print(data.head())\n",
    "\n",
    "# Data Preparation\n",
    "scaler = MinMaxScaler(feature_range=(0, 1))\n",
    "scaled_data = scaler.fit_transform(data[\"Close\"].values.reshape(-1, 1))\n"
   ]
  },
  {
   "cell_type": "code",
   "execution_count": 3,
   "metadata": {},
   "outputs": [],
   "source": [
    "# Window Size and Data Preproccessing\n",
    "prediction_days = 60\n",
    "\n",
    "x_train = []\n",
    "y_train = []\n",
    "\n",
    "for x in range(prediction_days, len(scaled_data)):\n",
    "    x_train.append(scaled_data[x - prediction_days : x, 0])\n",
    "    y_train.append(scaled_data[x, 0])\n",
    "\n",
    "x_train, y_train = np.array(x_train), np.array(y_train)\n",
    "x_train = np.reshape(x_train, (x_train.shape[0], x_train.shape[1], 1))"
   ]
  },
  {
   "cell_type": "code",
   "execution_count": 4,
   "metadata": {},
   "outputs": [
    {
     "name": "stdout",
     "output_type": "stream",
     "text": [
      "Epoch 1/25\n",
      "69/69 [==============================] - 5s 41ms/step - loss: 0.0077\n",
      "Epoch 2/25\n",
      "69/69 [==============================] - 3s 41ms/step - loss: 0.0022\n",
      "Epoch 3/25\n",
      "69/69 [==============================] - 3s 42ms/step - loss: 0.0021\n",
      "Epoch 4/25\n",
      "69/69 [==============================] - 3s 45ms/step - loss: 0.0019\n",
      "Epoch 5/25\n",
      "69/69 [==============================] - 3s 42ms/step - loss: 0.0018\n",
      "Epoch 6/25\n",
      "69/69 [==============================] - 3s 42ms/step - loss: 0.0014\n",
      "Epoch 7/25\n",
      "69/69 [==============================] - 3s 42ms/step - loss: 0.0016\n",
      "Epoch 8/25\n",
      "69/69 [==============================] - 3s 42ms/step - loss: 0.0014\n",
      "Epoch 9/25\n",
      "69/69 [==============================] - 3s 41ms/step - loss: 0.0015\n",
      "Epoch 10/25\n",
      "69/69 [==============================] - 3s 41ms/step - loss: 0.0014\n",
      "Epoch 11/25\n",
      "69/69 [==============================] - 3s 40ms/step - loss: 0.0010\n",
      "Epoch 12/25\n",
      "69/69 [==============================] - 3s 40ms/step - loss: 0.0011\n",
      "Epoch 13/25\n",
      "69/69 [==============================] - 3s 40ms/step - loss: 0.0011\n",
      "Epoch 14/25\n",
      "69/69 [==============================] - 3s 41ms/step - loss: 0.0011\n",
      "Epoch 15/25\n",
      "69/69 [==============================] - 3s 41ms/step - loss: 0.0011\n",
      "Epoch 16/25\n",
      "69/69 [==============================] - 3s 40ms/step - loss: 0.0010\n",
      "Epoch 17/25\n",
      "69/69 [==============================] - 3s 42ms/step - loss: 0.0011\n",
      "Epoch 18/25\n",
      "69/69 [==============================] - 3s 45ms/step - loss: 0.0012\n",
      "Epoch 19/25\n",
      "69/69 [==============================] - 3s 42ms/step - loss: 0.0011\n",
      "Epoch 20/25\n",
      "69/69 [==============================] - 3s 42ms/step - loss: 8.7705e-04\n",
      "Epoch 21/25\n",
      "69/69 [==============================] - 3s 40ms/step - loss: 9.6762e-04\n",
      "Epoch 22/25\n",
      "69/69 [==============================] - 3s 44ms/step - loss: 9.1325e-04\n",
      "Epoch 23/25\n",
      "69/69 [==============================] - 3s 42ms/step - loss: 7.6876e-04\n",
      "Epoch 24/25\n",
      "69/69 [==============================] - 3s 42ms/step - loss: 8.2849e-04\n",
      "Epoch 25/25\n",
      "69/69 [==============================] - 3s 42ms/step - loss: 0.0011\n"
     ]
    },
    {
     "name": "stderr",
     "output_type": "stream",
     "text": [
      "WARNING:absl:Found untraced functions such as lstm_cell_layer_call_fn, lstm_cell_layer_call_and_return_conditional_losses, lstm_cell_1_layer_call_fn, lstm_cell_1_layer_call_and_return_conditional_losses, lstm_cell_2_layer_call_fn while saving (showing 5 of 15). These functions will not be directly callable after loading.\n"
     ]
    },
    {
     "name": "stdout",
     "output_type": "stream",
     "text": [
      "INFO:tensorflow:Assets written to: models/BTC-USD\\assets\n"
     ]
    },
    {
     "name": "stderr",
     "output_type": "stream",
     "text": [
      "INFO:tensorflow:Assets written to: models/BTC-USD\\assets\n"
     ]
    }
   ],
   "source": [
    "# Building the Model\n",
    "model = Sequential()\n",
    "model.add(LSTM(units=50, return_sequences=True, input_shape=(x_train.shape[1], 1)))\n",
    "model.add(Dropout(0.2))\n",
    "model.add(LSTM(units=50, return_sequences=True))\n",
    "model.add(Dropout(0.2))\n",
    "model.add(LSTM(units=50))\n",
    "model.add(Dropout(0.2))\n",
    "model.add(Dense(units=1))\n",
    "\n",
    "\n",
    "model.compile(optimizer=\"adam\", loss=\"mean_squared_error\")\n",
    "model.fit(x_train, y_train, epochs=25, batch_size=32)\n",
    "model.save(filepath=f\"models/BTC-USD\")\n"
   ]
  },
  {
   "cell_type": "code",
   "execution_count": 5,
   "metadata": {},
   "outputs": [
    {
     "data": {
      "image/png": "[encoded data removed]",
      "text/plain": [
       "<Figure size 432x288 with 1 Axes>"
      ]
     },
     "metadata": {
      "needs_background": "light"
     },
     "output_type": "display_data"
    }
   ],
   "source": [
    "# Testing the accuracy using previous data\n",
    "test_end = dt.datetime.today()\n",
    "test_start = test_end - dt.timedelta(45)\n",
    "\n",
    "test_data = web.DataReader(company, \"yahoo\", test_start, test_end)\n",
    "actual_prices = test_data[\"Close\"].values\n",
    "\n",
    "total_dataset = pd.concat((data[\"Close\"], test_data[\"Close\"]), axis=0)\n",
    "\n",
    "model_inputs = total_dataset[\n",
    "    len(total_dataset) - len(test_data) - prediction_days :\n",
    "].values\n",
    "model_inputs = model_inputs.reshape(-1, 1)\n",
    "model_inputs = scaler.transform(model_inputs)\n",
    "\n",
    "# Making Prediction\n",
    "x_test = []\n",
    "for x in range(prediction_days, len(model_inputs)):\n",
    "    x_test.append(model_inputs[x - prediction_days : x, 0])\n",
    "\n",
    "x_test = np.array(x_test)\n",
    "x_test = np.reshape(x_test, (x_test.shape[0], x_test.shape[-1], 1))\n",
    "\n",
    "predicted_prices = model.predict(x_test)\n",
    "predicted_prices = scaler.inverse_transform(predicted_prices)\n",
    "\n",
    "# Plotting the results\n",
    "plt.plot(actual_prices, color=\"red\", label=\"Actual\")\n",
    "plt.plot(predicted_prices, color=\"blue\", label=\"Predicted\")\n",
    "plt.xlabel(\"Time\")\n",
    "plt.ylabel(\"Share Price\")\n",
    "plt.legend()\n",
    "plt.show()"
   ]
  },
  {
   "cell_type": "code",
   "execution_count": 6,
   "metadata": {},
   "outputs": [
    {
     "name": "stdout",
     "output_type": "stream",
     "text": [
      "61\n",
      "[[3825.9363]]\n",
      "[[3820.858]]\n",
      "[[3797.7822]]\n",
      "[[3766.7417]]\n",
      "[[3733.6963]]\n",
      "[[3702.0662]]\n",
      "[[3673.855]]\n",
      "[[3650.2341]]\n",
      "[[3631.8005]]\n",
      "[[3618.6824]]\n",
      "[[3610.633]]\n",
      "[[3607.1033]]\n",
      "[[3607.3367]]\n",
      "[[3610.4614]]\n",
      "[[3615.572]]\n",
      "[[3621.7993]]\n",
      "[[3628.3667]]\n",
      "[[3634.6226]]\n",
      "[[3640.0698]]\n",
      "[[3644.3652]]\n",
      "[[3647.3203]]\n",
      "[[3648.8835]]\n",
      "[[3649.1196]]\n",
      "[[3648.1785]]\n",
      "[[3646.2751]]\n",
      "[[3643.6567]]\n",
      "[[3640.5745]]\n",
      "[[3637.2744]]\n",
      "[[3633.9712]]\n",
      "[[3630.8376]]\n"
     ]
    },
    {
     "data": {
      "image/png": "[encoded data removed]",
      "text/plain": [
       "<Figure size 432x288 with 1 Axes>"
      ]
     },
     "metadata": {
      "needs_background": "light"
     },
     "output_type": "display_data"
    }
   ],
   "source": [
    "# Predicting future stock prices\n",
    "prediction_dataset = total_dataset[-prediction_days - 1:].values\n",
    "print(len(prediction_dataset))\n",
    "predicted_values = []\n",
    "\n",
    "for i in range(1, 31):\n",
    "    model_inputs = prediction_dataset.reshape(-1, 1)\n",
    "    model_inputs = scaler.transform(model_inputs)\n",
    "\n",
    "    real_data = [\n",
    "        model_inputs[-prediction_days : len(model_inputs) + 1, 0]\n",
    "    ]\n",
    "    real_data = np.array(real_data)\n",
    "    real_data = np.reshape(real_data, (real_data.shape[0], real_data.shape[1], 1))\n",
    "    prediction = model.predict(real_data)\n",
    "    prediction = scaler.inverse_transform(prediction)\n",
    "    \n",
    "    print(prediction)\n",
    "    predicted_values.append(float(prediction))\n",
    "    prediction_dataset = np.append(prediction_dataset, float(prediction))\n",
    "\n",
    "predicted_graph = [float(i) for i in predicted_prices] + predicted_values\n",
    "plt.plot(actual_prices, color=\"red\", label=\"Actual\")\n",
    "plt.plot(predicted_graph, color=\"blue\", label=\"Predicted\")\n",
    "plt.xlabel(\"Time\")\n",
    "plt.ylabel(\"Share Price\")\n",
    "plt.legend()\n",
    "plt.show()\n",
    "\n"
   ]
  },
  {
   "cell_type": "code",
   "execution_count": null,
   "metadata": {},
   "outputs": [],
   "source": []
  }
 ],
 "metadata": {
  "interpreter": {
   "hash": "4e86c235f7ba4435de363613ca9ab92da1a388c4361326f7574044f2e6c9bf10"
  },
  "kernelspec": {
   "display_name": "Python 3.8.7 64-bit ('env': venv)",
   "name": "python3"
  },
  "language_info": {
   "codemirror_mode": {
    "name": "ipython",
    "version": 3
   },
   "file_extension": ".py",
   "mimetype": "text/x-python",
   "name": "python",
   "nbconvert_exporter": "python",
   "pygments_lexer": "ipython3",
   "version": "3.8.7"
  },
  "orig_nbformat": 4
 },
 "nbformat": 4,
 "nbformat_minor": 2
}
