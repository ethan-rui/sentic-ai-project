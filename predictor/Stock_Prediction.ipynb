{
 "cells": [
  {
   "cell_type": "code",
   "execution_count": 1,
   "metadata": {},
   "outputs": [],
   "source": [
    "# Imports \n",
    "import numpy as np\n",
    "import matplotlib.pyplot as plt\n",
    "import pandas as pd\n",
    "import datetime as dt\n",
    "from pandas.core.algorithms import mode\n",
    "import pandas_datareader as web\n",
    "from sklearn.preprocessing import MinMaxScaler\n",
    "from tensorflow.keras.models import Sequential, load_model\n",
    "from tensorflow.keras.layers import Dense, Dropout, LSTM"
   ]
  },
  {
   "cell_type": "code",
   "execution_count": 2,
   "metadata": {},
   "outputs": [
    {
     "name": "stdout",
     "output_type": "stream",
     "text": [
      "                  High         Low        Open       Close      Volume  \\\n",
      "Date                                                                     \n",
      "2014-09-16  468.174011  452.421997  465.864014  457.334015  21056800.0   \n",
      "2014-09-17  456.859985  413.104004  456.859985  424.440002  34483200.0   \n",
      "2014-09-18  427.834991  384.532013  424.102997  394.795990  37919700.0   \n",
      "2014-09-19  423.295990  389.882996  394.673004  408.903992  36863600.0   \n",
      "2014-09-20  412.425995  393.181000  408.084991  398.821014  26580100.0   \n",
      "\n",
      "             Adj Close  \n",
      "Date                    \n",
      "2014-09-16  457.334015  \n",
      "2014-09-17  424.440002  \n",
      "2014-09-18  394.795990  \n",
      "2014-09-19  408.903992  \n",
      "2014-09-20  398.821014  \n"
     ]
    }
   ],
   "source": [
    "# Get Ticker Data\n",
    "company = \"BTC-USD\"\n",
    "\n",
    "start = dt.datetime(2012, 1, 1)\n",
    "end = dt.datetime.today()\n",
    "\n",
    "data = web.DataReader(company, \"yahoo\", start, end)\n",
    "print(data.head())\n",
    "\n",
    "# Data Preparation\n",
    "scaler = MinMaxScaler(feature_range=(0, 1))\n",
    "scaled_data = scaler.fit_transform(data[\"Close\"].values.reshape(-1, 1))\n"
   ]
  },
  {
   "cell_type": "code",
   "execution_count": 8,
   "metadata": {},
   "outputs": [],
   "source": [
    "# Window Size and Data Preproccessing\n",
    "prediction_days = 60\n",
    "\n",
    "x_train = []\n",
    "y_train = []\n",
    "\n",
    "for x in range(prediction_days, len(scaled_data)):\n",
    "    x_train.append(scaled_data[x - prediction_days : x, 0])\n",
    "    y_train.append(scaled_data[x, 0])\n",
    "\n",
    "x_train, y_train = np.array(x_train), np.array(y_train)\n",
    "x_train = np.reshape(x_train, (x_train.shape[0], x_train.shape[1], 1))"
   ]
  },
  {
   "cell_type": "code",
   "execution_count": 19,
   "metadata": {},
   "outputs": [
    {
     "name": "stdout",
     "output_type": "stream",
     "text": [
      "79/79 [==============================] - 7s 49ms/step - loss: 0.0051\n"
     ]
    },
    {
     "name": "stderr",
     "output_type": "stream",
     "text": [
      "WARNING:absl:Found untraced functions such as lstm_cell_15_layer_call_and_return_conditional_losses, lstm_cell_15_layer_call_fn, lstm_cell_16_layer_call_and_return_conditional_losses, lstm_cell_16_layer_call_fn, lstm_cell_17_layer_call_and_return_conditional_losses while saving (showing 5 of 15). These functions will not be directly callable after loading.\n"
     ]
    },
    {
     "name": "stdout",
     "output_type": "stream",
     "text": [
      "INFO:tensorflow:Assets written to: models/BTC-USD\\assets\n"
     ]
    },
    {
     "name": "stderr",
     "output_type": "stream",
     "text": [
      "INFO:tensorflow:Assets written to: models/BTC-USD\\assets\n"
     ]
    }
   ],
   "source": [
    "# Building the Model\n",
    "model = Sequential()\n",
    "model.add(LSTM(units=50, return_sequences=True, input_shape=(x_train.shape[1], 1)))\n",
    "model.add(Dropout(0.2))\n",
    "model.add(LSTM(units=50, return_sequences=True))\n",
    "model.add(Dropout(0.2))\n",
    "model.add(LSTM(units=50))\n",
    "model.add(Dropout(0.2))\n",
    "model.add(Dense(units=1))\n",
    "\n",
    "\n",
    "model.compile(optimizer=\"adam\", loss=\"mean_squared_error\")\n",
    "model.fit(x_train, y_train, epochs=25, batch_size=32)\n",
    "model.save(filepath=f\"models/BTC-USD\")\n"
   ]
  },
  {
   "cell_type": "code",
   "execution_count": 15,
   "metadata": {},
   "outputs": [
    {
     "data": {
      "image/png": "[encoded data removed]",
      "text/plain": [
       "<Figure size 432x288 with 1 Axes>"
      ]
     },
     "metadata": {
      "needs_background": "light"
     },
     "output_type": "display_data"
    }
   ],
   "source": [
    "# Testing the accuracy using previous data\n",
    "test_end = dt.datetime.today()\n",
    "test_start = test_end - dt.timedelta(45)\n",
    "\n",
    "test_data = web.DataReader(company, \"yahoo\", test_start, test_end)\n",
    "actual_prices = test_data[\"Close\"].values\n",
    "\n",
    "total_dataset = pd.concat((data[\"Close\"], test_data[\"Close\"]), axis=0)\n",
    "\n",
    "model_inputs = total_dataset[\n",
    "    len(total_dataset) - len(test_data) - prediction_days :\n",
    "].values\n",
    "model_inputs = model_inputs.reshape(-1, 1)\n",
    "model_inputs = scaler.transform(model_inputs)\n",
    "\n",
    "# Making Prediction\n",
    "x_test = []\n",
    "for x in range(prediction_days, len(model_inputs)):\n",
    "    x_test.append(model_inputs[x - prediction_days : x, 0])\n",
    "\n",
    "x_test = np.array(x_test)\n",
    "x_test = np.reshape(x_test, (x_test.shape[0], x_test.shape[-1], 1))\n",
    "\n",
    "predicted_prices = model.predict(x_test)\n",
    "predicted_prices = scaler.inverse_transform(predicted_prices)\n",
    "\n",
    "# Plotting the results\n",
    "plt.plot(actual_prices, color=\"red\", label=\"Actual\")\n",
    "plt.plot(predicted_prices, color=\"blue\", label=\"Predicted\")\n",
    "plt.xlabel(\"Time\")\n",
    "plt.ylabel(\"Share Price\")\n",
    "plt.legend()\n",
    "plt.show()"
   ]
  },
  {
   "cell_type": "code",
   "execution_count": 13,
   "metadata": {},
   "outputs": [
    {
     "name": "stdout",
     "output_type": "stream",
     "text": [
      "61\n",
      "[[56538.043]]\n",
      "[[56463.63]]\n",
      "[[56176.887]]\n",
      "[[55839.066]]\n",
      "[[55524.734]]\n",
      "[[55260.7]]\n",
      "[[55052.527]]\n",
      "[[54896.555]]\n",
      "[[54785.074]]\n",
      "[[54708.832]]\n",
      "[[54658.58]]\n",
      "[[54625.973]]\n",
      "[[54604.094]]\n",
      "[[54587.617]]\n",
      "[[54572.777]]\n",
      "[[54557.195]]\n",
      "[[54539.58]]\n",
      "[[54519.47]]\n",
      "[[54496.99]]\n",
      "[[54472.547]]\n",
      "[[54446.76]]\n",
      "[[54420.26]]\n",
      "[[54393.63]]\n",
      "[[54367.344]]\n",
      "[[54341.766]]\n",
      "[[54317.184]]\n",
      "[[54293.723]]\n",
      "[[54271.465]]\n",
      "[[54250.42]]\n",
      "[[54230.59]]\n"
     ]
    },
    {
     "data": {
      "image/png": "[encoded data removed]",
      "text/plain": [
       "<Figure size 432x288 with 1 Axes>"
      ]
     },
     "metadata": {
      "needs_background": "light"
     },
     "output_type": "display_data"
    }
   ],
   "source": [
    "# Predicting future stock prices\n",
    "prediction_dataset = total_dataset[-prediction_days - 1:].values\n",
    "print(len(prediction_dataset))\n",
    "predicted_values = []\n",
    "\n",
    "for i in range(1, 31):\n",
    "    model_inputs = prediction_dataset.reshape(-1, 1)\n",
    "    model_inputs = scaler.transform(model_inputs)\n",
    "\n",
    "    real_data = [\n",
    "        model_inputs[-prediction_days : len(model_inputs) + 1, 0]\n",
    "    ]\n",
    "    real_data = np.array(real_data)\n",
    "    real_data = np.reshape(real_data, (real_data.shape[0], real_data.shape[1], 1))\n",
    "    prediction = model.predict(real_data)\n",
    "    prediction = scaler.inverse_transform(prediction)\n",
    "    \n",
    "    print(prediction)\n",
    "    predicted_values.append(float(prediction))\n",
    "    prediction_dataset = np.append(prediction_dataset, float(prediction))\n",
    "\n",
    "predicted_graph = [float(i) for i in predicted_prices] + predicted_values\n",
    "plt.plot(actual_prices, color=\"red\", label=\"Actual\")\n",
    "plt.plot(predicted_graph, color=\"blue\", label=\"Predicted\")\n",
    "plt.xlabel(\"Time\")\n",
    "plt.ylabel(\"Share Price\")\n",
    "plt.legend()\n",
    "plt.show()\n",
    "\n"
   ]
  },
  {
   "cell_type": "code",
   "execution_count": null,
   "metadata": {},
   "outputs": [],
   "source": []
  }
 ],
 "metadata": {
  "interpreter": {
   "hash": "4e86c235f7ba4435de363613ca9ab92da1a388c4361326f7574044f2e6c9bf10"
  },
  "kernelspec": {
   "display_name": "Python 3.8.7 64-bit ('env': venv)",
   "name": "python3"
  },
  "language_info": {
   "codemirror_mode": {
    "name": "ipython",
    "version": 3
   },
   "file_extension": ".py",
   "mimetype": "text/x-python",
   "name": "python",
   "nbconvert_exporter": "python",
   "pygments_lexer": "ipython3",
   "version": "3.8.7"
  },
  "orig_nbformat": 4
 },
 "nbformat": 4,
 "nbformat_minor": 2
}
