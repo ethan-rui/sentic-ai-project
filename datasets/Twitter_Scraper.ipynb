{
  "nbformat": 4,
  "nbformat_minor": 0,
  "metadata": {
    "colab": {
      "name": "Twitter Scraper.ipynb",
      "provenance": [],
      "collapsed_sections": []
    },
    "kernelspec": {
      "name": "python3",
      "display_name": "Python 3"
    },
    "language_info": {
      "name": "python"
    }
  },
  "cells": [
    {
      "cell_type": "markdown",
      "metadata": {
        "id": "v-s_QsI131-M"
      },
      "source": [
        "<h4>Installation of required packages</h4>"
      ]
    },
    {
      "cell_type": "code",
      "metadata": {
        "id": "vihXKsufHRTw",
        "colab": {
          "base_uri": "https://localhost:8080/"
        },
        "outputId": "1b8f7670-a234-4879-e82a-253324c868b0"
      },
      "source": [
        "!pip install nest-asyncio\n",
        "!git clone --depth=1 https://github.com/twintproject/twint.git\n",
        "!cd twint && pip3 install . -r requirements.txt"
      ],
      "execution_count": 1,
      "outputs": [
        {
          "output_type": "stream",
          "name": "stdout",
          "text": [
            "Requirement already satisfied: nest-asyncio in /usr/local/lib/python3.7/dist-packages (1.5.1)\n",
            "Cloning into 'twint'...\n",
            "remote: Enumerating objects: 47, done.\u001b[K\n",
            "remote: Counting objects: 100% (47/47), done.\u001b[K\n",
            "remote: Compressing objects: 100% (44/44), done.\u001b[K\n",
            "remote: Total 47 (delta 3), reused 14 (delta 0), pack-reused 0\u001b[K\n",
            "Unpacking objects: 100% (47/47), done.\n",
            "Processing /content/twint\n",
            "\u001b[33m  DEPRECATION: A future pip version will change local packages to be built in-place without first copying to a temporary directory. We recommend you use --use-feature=in-tree-build to test your packages with this new behavior before it becomes the default.\n",
            "   pip 21.3 will remove support for this functionality. You can find discussion regarding this at https://github.com/pypa/pip/issues/7555.\u001b[0m\n",
            "Collecting aiohttp\n",
            "  Downloading aiohttp-3.7.4.post0-cp37-cp37m-manylinux2014_x86_64.whl (1.3 MB)\n",
            "\u001b[K     |████████████████████████████████| 1.3 MB 36.9 MB/s \n",
            "\u001b[?25hCollecting aiodns\n",
            "  Downloading aiodns-3.0.0-py3-none-any.whl (5.0 kB)\n",
            "Requirement already satisfied: beautifulsoup4 in /usr/local/lib/python3.7/dist-packages (from -r requirements.txt (line 3)) (4.6.3)\n",
            "Collecting cchardet\n",
            "  Downloading cchardet-2.1.7-cp37-cp37m-manylinux2010_x86_64.whl (263 kB)\n",
            "\u001b[K     |████████████████████████████████| 263 kB 56.1 MB/s \n",
            "\u001b[?25hCollecting dataclasses\n",
            "  Downloading dataclasses-0.6-py3-none-any.whl (14 kB)\n",
            "Collecting elasticsearch\n",
            "  Downloading elasticsearch-7.14.1-py2.py3-none-any.whl (363 kB)\n",
            "\u001b[K     |████████████████████████████████| 363 kB 33.0 MB/s \n",
            "\u001b[?25hRequirement already satisfied: pysocks in /usr/local/lib/python3.7/dist-packages (from -r requirements.txt (line 7)) (1.7.1)\n",
            "Requirement already satisfied: pandas>=0.23.0 in /usr/local/lib/python3.7/dist-packages (from -r requirements.txt (line 8)) (1.1.5)\n",
            "Collecting aiohttp_socks<=0.4.1\n",
            "  Downloading aiohttp_socks-0.4.1-py3-none-any.whl (17 kB)\n",
            "Collecting schedule\n",
            "  Downloading schedule-1.1.0-py2.py3-none-any.whl (10 kB)\n",
            "Requirement already satisfied: geopy in /usr/local/lib/python3.7/dist-packages (from -r requirements.txt (line 11)) (1.17.0)\n",
            "Collecting fake-useragent\n",
            "  Downloading fake-useragent-0.1.11.tar.gz (13 kB)\n",
            "Collecting googletransx\n",
            "  Downloading googletransx-2.4.2.tar.gz (13 kB)\n",
            "Requirement already satisfied: python-dateutil>=2.7.3 in /usr/local/lib/python3.7/dist-packages (from pandas>=0.23.0->-r requirements.txt (line 8)) (2.8.2)\n",
            "Requirement already satisfied: pytz>=2017.2 in /usr/local/lib/python3.7/dist-packages (from pandas>=0.23.0->-r requirements.txt (line 8)) (2018.9)\n",
            "Requirement already satisfied: numpy>=1.15.4 in /usr/local/lib/python3.7/dist-packages (from pandas>=0.23.0->-r requirements.txt (line 8)) (1.19.5)\n",
            "Requirement already satisfied: attrs>=19.2.0 in /usr/local/lib/python3.7/dist-packages (from aiohttp_socks<=0.4.1->-r requirements.txt (line 9)) (21.2.0)\n",
            "Requirement already satisfied: typing-extensions>=3.6.5 in /usr/local/lib/python3.7/dist-packages (from aiohttp->-r requirements.txt (line 1)) (3.7.4.3)\n",
            "Collecting multidict<7.0,>=4.5\n",
            "  Downloading multidict-5.1.0-cp37-cp37m-manylinux2014_x86_64.whl (142 kB)\n",
            "\u001b[K     |████████████████████████████████| 142 kB 63.6 MB/s \n",
            "\u001b[?25hCollecting async-timeout<4.0,>=3.0\n",
            "  Downloading async_timeout-3.0.1-py3-none-any.whl (8.2 kB)\n",
            "Requirement already satisfied: chardet<5.0,>=2.0 in /usr/local/lib/python3.7/dist-packages (from aiohttp->-r requirements.txt (line 1)) (3.0.4)\n",
            "Collecting yarl<2.0,>=1.0\n",
            "  Downloading yarl-1.6.3-cp37-cp37m-manylinux2014_x86_64.whl (294 kB)\n",
            "\u001b[K     |████████████████████████████████| 294 kB 52.8 MB/s \n",
            "\u001b[?25hRequirement already satisfied: six>=1.5 in /usr/local/lib/python3.7/dist-packages (from python-dateutil>=2.7.3->pandas>=0.23.0->-r requirements.txt (line 8)) (1.15.0)\n",
            "Requirement already satisfied: idna>=2.0 in /usr/local/lib/python3.7/dist-packages (from yarl<2.0,>=1.0->aiohttp->-r requirements.txt (line 1)) (2.10)\n",
            "Collecting pycares>=4.0.0\n",
            "  Downloading pycares-4.0.0-cp37-cp37m-manylinux2010_x86_64.whl (291 kB)\n",
            "\u001b[K     |████████████████████████████████| 291 kB 42.9 MB/s \n",
            "\u001b[?25hRequirement already satisfied: cffi>=1.5.0 in /usr/local/lib/python3.7/dist-packages (from pycares>=4.0.0->aiodns->-r requirements.txt (line 2)) (1.14.6)\n",
            "Requirement already satisfied: pycparser in /usr/local/lib/python3.7/dist-packages (from cffi>=1.5.0->pycares>=4.0.0->aiodns->-r requirements.txt (line 2)) (2.20)\n",
            "Requirement already satisfied: urllib3<2,>=1.21.1 in /usr/local/lib/python3.7/dist-packages (from elasticsearch->-r requirements.txt (line 6)) (1.24.3)\n",
            "Requirement already satisfied: certifi in /usr/local/lib/python3.7/dist-packages (from elasticsearch->-r requirements.txt (line 6)) (2021.5.30)\n",
            "Requirement already satisfied: geographiclib<2,>=1.49 in /usr/local/lib/python3.7/dist-packages (from geopy->-r requirements.txt (line 11)) (1.52)\n",
            "Requirement already satisfied: requests in /usr/local/lib/python3.7/dist-packages (from googletransx->-r requirements.txt (line 13)) (2.23.0)\n",
            "Building wheels for collected packages: twint, fake-useragent, googletransx\n",
            "  Building wheel for twint (setup.py) ... \u001b[?25l\u001b[?25hdone\n",
            "  Created wheel for twint: filename=twint-2.1.21-py3-none-any.whl size=38870 sha256=294dbfd087d812cd6fccc81aebdc623c2be936385d01beb60d6987e3372849ba\n",
            "  Stored in directory: /tmp/pip-ephem-wheel-cache-6fuuzu1u/wheels/f7/3e/11/2803f3c6890e87a9bec35bb8e37ef1ad0777a00f43e2441fb1\n",
            "  Building wheel for fake-useragent (setup.py) ... \u001b[?25l\u001b[?25hdone\n",
            "  Created wheel for fake-useragent: filename=fake_useragent-0.1.11-py3-none-any.whl size=13502 sha256=1e66ba4b318f7b8d17eaadab1cd8d74e8c39751716129212af432fc080176bca\n",
            "  Stored in directory: /root/.cache/pip/wheels/ed/f7/62/50ab6c9a0b5567267ab76a9daa9d06315704209b2c5d032031\n",
            "  Building wheel for googletransx (setup.py) ... \u001b[?25l\u001b[?25hdone\n",
            "  Created wheel for googletransx: filename=googletransx-2.4.2-py3-none-any.whl size=15968 sha256=5e8f403c9a88dd8d7b535787636c973d3df2e2d0c5263a57506e912793db2d78\n",
            "  Stored in directory: /root/.cache/pip/wheels/66/d5/b1/31104b338f7fd45aa8f7d22587765db06773b13df48a89735f\n",
            "Successfully built twint fake-useragent googletransx\n",
            "Installing collected packages: multidict, yarl, async-timeout, pycares, aiohttp, schedule, googletransx, fake-useragent, elasticsearch, dataclasses, cchardet, aiohttp-socks, aiodns, twint\n",
            "Successfully installed aiodns-3.0.0 aiohttp-3.7.4.post0 aiohttp-socks-0.4.1 async-timeout-3.0.1 cchardet-2.1.7 dataclasses-0.6 elasticsearch-7.14.1 fake-useragent-0.1.11 googletransx-2.4.2 multidict-5.1.0 pycares-4.0.0 schedule-1.1.0 twint-2.1.21 yarl-1.6.3\n"
          ]
        }
      ]
    },
    {
      "cell_type": "code",
      "metadata": {
        "id": "614A9a6SLaYK"
      },
      "source": [
        "import nest_asyncio\n",
        "import pandas as pd\n",
        "nest_asyncio.apply()"
      ],
      "execution_count": 2,
      "outputs": []
    },
    {
      "cell_type": "markdown",
      "metadata": {
        "id": "CNfOrXUBKOd2"
      },
      "source": [
        "<h4>Search Options: <a href=\"https://github.com/twintproject/twint/wiki/Configuration\">https://github.com/twintproject/twint/wiki/Configuration</a></h4>"
      ]
    },
    {
      "cell_type": "code",
      "metadata": {
        "id": "s2tHq-XbO7oq"
      },
      "source": [
        "# Stocks and other keywords\n",
        "keywords = [\"zoom\", \"zm\", \"amazon\", \"amzn\", \"apple\", \"aapl\", \"etheruem\", \"eth\", \"bitcoin\", \"btc\" \"dogecoin\", \"doge\", \"google\", \"googl\"]\n",
        "\n",
        "# Twitter handles \n",
        "users = [\"elonmusk\"]"
      ],
      "execution_count": 3,
      "outputs": []
    },
    {
      "cell_type": "code",
      "metadata": {
        "id": "SFqQy66XJ9ns",
        "colab": {
          "base_uri": "https://localhost:8080/"
        },
        "outputId": "a990885c-9825-43ea-f31f-bdc2ecd970bb"
      },
      "source": [
        "import twint\n",
        "\n",
        "c = twint.Config()\n",
        "# If you dont define the Username attribute, it'll search thru entire all the tweets\n",
        "c.Username = \"elonmusk\"\n",
        "c.Limit = 10\n",
        "c.Store_csv = False\n",
        "c.Pandas = True\n",
        "c.Hide_output = True\n",
        "\n",
        "# for i in keywords: \n",
        "c.Search = \"tesla\"\n",
        "#c.Output = f\"demo/{i}.csv\"\n",
        "\n",
        "twint.run.Search(c)\n",
        "\n",
        "df = twint.storage.panda.Tweets_df\n",
        "df = df[[\"date\", \"user_id\", \"username\", \"tweet\", \"nlikes\", \"nretweets\", \"nreplies\"]]\n",
        "print(df)\n"
      ],
      "execution_count": 4,
      "outputs": [
        {
          "output_type": "stream",
          "name": "stdout",
          "text": [
            "                   date   user_id  username  ...  nlikes  nretweets  nreplies\n",
            "0   2021-09-11 20:41:50  44196397  elonmusk  ...    6211        384       719\n",
            "1   2021-09-10 23:15:22  44196397  elonmusk  ...   33769        787       575\n",
            "2   2021-09-10 21:30:14  44196397  elonmusk  ...    2943        170       168\n",
            "3   2021-09-10 19:39:11  44196397  elonmusk  ...    5193        274       303\n",
            "4   2021-09-09 22:08:09  44196397  elonmusk  ...    2367        104       172\n",
            "5   2021-09-09 22:04:46  44196397  elonmusk  ...   28954       1138      1465\n",
            "6   2021-09-09 21:58:55  44196397  elonmusk  ...  120374      10212      5760\n",
            "7   2021-09-06 21:16:59  44196397  elonmusk  ...   18368        522       594\n",
            "8   2021-09-04 17:17:50  44196397  elonmusk  ...    5810        400       584\n",
            "9   2021-09-03 18:50:14  44196397  elonmusk  ...    3774        232       389\n",
            "10  2021-09-03 18:21:18  44196397  elonmusk  ...    3395        292       356\n",
            "11  2021-09-03 16:10:01  44196397  elonmusk  ...    2796        157       173\n",
            "12  2021-09-03 16:05:40  44196397  elonmusk  ...    3170        201       465\n",
            "13  2021-09-03 05:58:15  44196397  elonmusk  ...    6853        351       347\n",
            "14  2021-09-02 17:05:26  44196397  elonmusk  ...    5337        545       524\n",
            "15  2021-09-02 00:49:39  44196397  elonmusk  ...    3994        200       248\n",
            "16  2021-09-01 18:39:05  44196397  elonmusk  ...    4540        294       315\n",
            "17  2021-09-01 17:40:17  44196397  elonmusk  ...    9570        339       334\n",
            "18  2021-08-30 21:25:03  44196397  elonmusk  ...   10120        314       595\n",
            "19  2021-08-30 09:04:47  44196397  elonmusk  ...    3326        224       280\n",
            "\n",
            "[20 rows x 7 columns]\n"
          ]
        }
      ]
    }
  ]
}